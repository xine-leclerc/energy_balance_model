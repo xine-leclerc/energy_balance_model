{
 "cells": [
  {
   "cell_type": "markdown",
   "id": "10719f8e",
   "metadata": {},
   "source": [
    "# Energy Balance Model"
   ]
  },
  {
   "cell_type": "markdown",
   "id": "70938d92",
   "metadata": {},
   "source": [
    "This code is based on that created by Dr. David Archer and adapted by Tatsam Garg for TROP ICSU, https://tropicsu.org/lesson-plan-create-climate-model-with-py/."
   ]
  },
  {
   "cell_type": "code",
   "execution_count": 33,
   "id": "54d194d3",
   "metadata": {
    "ExecuteTime": {
     "end_time": "2022-05-03T00:28:53.415702Z",
     "start_time": "2022-05-03T00:28:53.397784Z"
    }
   },
   "outputs": [],
   "source": [
    "#This imports the desired packages.\n",
    "import numpy as np\n",
    "import matplotlib.pyplot as plt"
   ]
  },
  {
   "cell_type": "code",
   "execution_count": 34,
   "id": "9d0d9c64",
   "metadata": {
    "ExecuteTime": {
     "end_time": "2022-05-03T00:28:53.917226Z",
     "start_time": "2022-05-03T00:28:53.896242Z"
    }
   },
   "outputs": [
    {
     "name": "stdout",
     "output_type": "stream",
     "text": [
      "Heat capacity is :  16800000000 J/m^2 K\n"
     ]
    }
   ],
   "source": [
    "#Setting up the main parameters\n",
    "#Define your time interval size\n",
    "timeStep = 10                      # years\n",
    "waterDepth = 4000                  # meters\n",
    "L = 1350                           # Watts/m^2 (Solar,Constant)\n",
    "albedo = 0.3\n",
    "epsilon = 1\n",
    "sigma = 5.67*10**(-8)              # The Stefan-Boltzmann constant in units of W/m2 K^4\n",
    "SpecificHeatCapacity = 4200        # (J/kg K) (for water)\n",
    "Density = 1000                     # (kg/m^3) (for water)\n",
    "Volume = waterDepth                # m^3 (of a water column with unit cross sectional area)\n",
    "WaterColumnMass = Density * Volume #(kg/m^2)\n",
    "HeatCapacity = SpecificHeatCapacity * WaterColumnMass #(J/m^2 K)\n",
    "print(\"Heat capacity is : \", HeatCapacity, \"J/m^2 K\")"
   ]
  },
  {
   "cell_type": "code",
   "execution_count": 35,
   "id": "6bff3f56",
   "metadata": {
    "ExecuteTime": {
     "end_time": "2022-05-03T00:28:54.653479Z",
     "start_time": "2022-05-03T00:28:54.637490Z"
    }
   },
   "outputs": [],
   "source": [
    "#Define the number of timesteps you want to take.\n",
    "nSteps = 100\n",
    "#Create empty arrays with as many spaces as the number of time steps you want to take.\n",
    "#The np.zeros(size) command creates empty arrays\n",
    "Heatrate = np.zeros(nSteps) #Heat content per unit time (as defined in equation 3)\n",
    "HeatContent = np.zeros(nSteps) #Total heat content at each time step\n",
    "T = np.zeros(nSteps) #Temperature"
   ]
  },
  {
   "cell_type": "code",
   "execution_count": 36,
   "id": "6e6ac2cb",
   "metadata": {
    "ExecuteTime": {
     "end_time": "2022-05-03T00:28:55.512477Z",
     "start_time": "2022-05-03T00:28:55.497522Z"
    }
   },
   "outputs": [],
   "source": [
    "T[0] = 0 #Initial Temperature\n",
    "HeatContent[0] = HeatCapacity * T[0] #Initial heat content (Heat content and Temperature are related by the heat capacity)"
   ]
  },
  {
   "cell_type": "code",
   "execution_count": 37,
   "id": "ca595d6c",
   "metadata": {
    "ExecuteTime": {
     "end_time": "2022-05-03T00:28:56.450827Z",
     "start_time": "2022-05-03T00:28:56.435162Z"
    }
   },
   "outputs": [],
   "source": [
    "#Define a linear array whose elements are consecutive integers and range is the same as the number of time steps.\n",
    "t = np.linspace(0, nSteps, nSteps)\n",
    "#Now the time elapsed can simply be:\n",
    "Time = t*timeStep # Time elapsed is nothing but integral multiples of the timeStep."
   ]
  },
  {
   "cell_type": "code",
   "execution_count": 38,
   "id": "0c7e1f2f",
   "metadata": {
    "ExecuteTime": {
     "end_time": "2022-05-03T00:28:57.560385Z",
     "start_time": "2022-05-03T00:28:57.547415Z"
    },
    "code_folding": []
   },
   "outputs": [],
   "source": [
    "# A 'for' loop that iteratively determines different quantities of interest corresponding\n",
    "# to each time step using the previous step's data.\n",
    "for t in range (1, nSteps): # 't' has become our index\n",
    "    Heatrate[t] = L*(1-albedo)/4 - epsilon * sigma * T[t-1]**4\n",
    "    HeatContent[t] = HeatContent[t-1] + Heatrate[t] * 24*365*3600*timeStep\n",
    "    T[t] = HeatContent[t] / HeatCapacity"
   ]
  },
  {
   "cell_type": "code",
   "execution_count": 39,
   "id": "8ac166f1",
   "metadata": {
    "ExecuteTime": {
     "end_time": "2022-05-03T00:28:58.846645Z",
     "start_time": "2022-05-03T00:28:58.826699Z"
    }
   },
   "outputs": [],
   "source": [
    "Heatrate[t] = L*(1-albedo)/4 - epsilon * sigma * T[t-1]**4 #[t-1] indicates we're referring to the previous time step"
   ]
  },
  {
   "cell_type": "code",
   "execution_count": 40,
   "id": "5b478c09",
   "metadata": {
    "ExecuteTime": {
     "end_time": "2022-05-03T00:28:59.821424Z",
     "start_time": "2022-05-03T00:28:59.805739Z"
    }
   },
   "outputs": [],
   "source": [
    "HeatContent[t] = HeatContent[t-1] + Heatrate[t] * 24*365*3600*timeStep"
   ]
  },
  {
   "cell_type": "code",
   "execution_count": 41,
   "id": "e9c85edb",
   "metadata": {
    "ExecuteTime": {
     "end_time": "2022-05-03T00:29:00.494364Z",
     "start_time": "2022-05-03T00:29:00.476379Z"
    }
   },
   "outputs": [],
   "source": [
    "T[t] = HeatContent[t] / HeatCapacity"
   ]
  },
  {
   "cell_type": "code",
   "execution_count": null,
   "id": "3c54bb49",
   "metadata": {
    "ExecuteTime": {
     "end_time": "2022-05-03T00:32:17.698406Z",
     "start_time": "2022-05-03T00:32:17.495848Z"
    }
   },
   "outputs": [],
   "source": [
    "plt.plot(Time, T)\n",
    "plt.rcParams['figure.figsize']=[14,10] # Function to control Figure size\n",
    "plt.title(\"Temperature change over time\", fontsize = '20')\n",
    "plt.ylabel(\"Temperature (Degrees Kelvin)\", fontsize='15')\n",
    "#plt.ylabel(\"Temperature (Degrees Celcius)\", fontsize='15') # Try doing an extra graph to show values in degrees Celcius so the result is more intuitive for participants more used to thinking in these degrees\n",
    "plt.xlabel(\"Time (Years)\", fontsize='15')\n",
    "plt.show()\n"
   ]
  }
 ],
 "metadata": {
  "kernelspec": {
   "display_name": "Python 3 (ipykernel)",
   "language": "python",
   "name": "python3"
  },
  "language_info": {
   "codemirror_mode": {
    "name": "ipython",
    "version": 3
   },
   "file_extension": ".py",
   "mimetype": "text/x-python",
   "name": "python",
   "nbconvert_exporter": "python",
   "pygments_lexer": "ipython3",
   "version": "3.9.7"
  },
  "toc": {
   "base_numbering": 1,
   "nav_menu": {},
   "number_sections": false,
   "sideBar": true,
   "skip_h1_title": false,
   "title_cell": "Table of Contents",
   "title_sidebar": "Contents",
   "toc_cell": false,
   "toc_position": {},
   "toc_section_display": true,
   "toc_window_display": true
  },
  "varInspector": {
   "cols": {
    "lenName": 16,
    "lenType": 16,
    "lenVar": 40
   },
   "kernels_config": {
    "python": {
     "delete_cmd_postfix": "",
     "delete_cmd_prefix": "del ",
     "library": "var_list.py",
     "varRefreshCmd": "print(var_dic_list())"
    },
    "r": {
     "delete_cmd_postfix": ") ",
     "delete_cmd_prefix": "rm(",
     "library": "var_list.r",
     "varRefreshCmd": "cat(var_dic_list()) "
    }
   },
   "types_to_exclude": [
    "module",
    "function",
    "builtin_function_or_method",
    "instance",
    "_Feature"
   ],
   "window_display": false
  }
 },
 "nbformat": 4,
 "nbformat_minor": 5
}
